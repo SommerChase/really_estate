{
 "cells": [
  {
   "cell_type": "code",
   "execution_count": 72,
   "metadata": {},
   "outputs": [],
   "source": [
    "import requests\n",
    "import lxml\n",
    "import pandas as pd\n",
    "from bs4 import BeautifulSoup # Html search tool\n",
    "import re # Regular expressions"
   ]
  },
  {
   "cell_type": "code",
   "execution_count": null,
   "metadata": {},
   "outputs": [],
   "source": [
    "response = requests.get(\"https://www.zillow.com/homes/Raleigh,-NC_rb/\")\n",
    "print(response.text)"
   ]
  },
  {
   "cell_type": "code",
   "execution_count": 125,
   "metadata": {},
   "outputs": [],
   "source": [
    "# Header required to circumvent captcha\n",
    "req_headers = {\n",
    "    'accept': 'text/html,application/xhtml+xml,application/xml;q=0.9,image/webp,image/apng,*/*;q=0.8',\n",
    "    'accept-encoding': 'gzip, deflate, br',\n",
    "    'accept-language': 'en-US,en;q=0.8',\n",
    "    'upgrade-insecure-requests': '1',\n",
    "    'user-agent': 'Mozilla/5.0 (Windows NT 10.0; Win64; x64) AppleWebKit/537.36 (KHTML, like Gecko) Chrome/61.0.3163.100 Safari/537.36'\n",
    "}\n",
    "\n",
    "with requests.Session() as main_session:\n",
    "   city_state_abbr = 'raleigh-nc/' #*****change this city to what you want*****\n",
    "   url = 'https://www.zillow.com/' + city_state_abbr\n",
    "   main_request = main_session.get(url, headers=req_headers)"
   ]
  },
  {
   "cell_type": "code",
   "execution_count": 136,
   "metadata": {},
   "outputs": [],
   "source": [
    "#add contents of urls to soup variable from each url\n",
    "soup = BeautifulSoup(main_request.content, \"html.parser\")"
   ]
  },
  {
   "cell_type": "code",
   "execution_count": null,
   "metadata": {},
   "outputs": [],
   "source": [
    "# After finding urls from the main page, use those links to open homedetaill page\n",
    "with requests.Session() as branch_session:\n",
    "    branch_base_url = \"https://www.zillow.com/homedetails/\"\n",
    "    branch_sub_url = \"5904-Endsley-Ct-Raleigh-NC-27610/65332868_zpid/\"\n",
    "\n",
    "    branch_request = branch_session.get(branch_base_url + branch_sub_url, headers=req_headers)\n",
    "\n",
    "branch_soup = BeautifulSoup(branch_request.content, \"html.parser\")\n",
    "\n",
    "\n",
    "branch_soup.prettify()"
   ]
  },
  {
   "cell_type": "code",
   "execution_count": 185,
   "metadata": {},
   "outputs": [
    {
     "name": "stdout",
     "output_type": "stream",
     "text": [
      "[<span class=\"Text-c11n-8-73-0__sc-aiai24-0 dpf__sc-1me8eh6-0 kGdfMs fzJCbY\" data-testid=\"price\"><span>$352,000</span></span>]\n",
      "[<strong>3</strong>, <strong>3</strong>, <strong>1,566</strong>, <strong>6 days</strong>, <strong>3,532</strong>, <strong>200</strong>, <strong>MON</strong>, <strong>TUE</strong>, <strong>WED</strong>, <strong>THU</strong>]\n",
      "<h1 class=\"Text-c11n-8-73-0__sc-aiai24-0 kHeRng\">5904 Endsley Ct,<!-- --> <!-- -->Raleigh, NC 27610</h1>\n"
     ]
    }
   ],
   "source": [
    "raw_price_soup = branch_soup.find_all(\"span\", class_ = \"Text-c11n-8-73-0__sc-aiai24-0 dpf__sc-1me8eh6-0 kGdfMs fzJCbY\")\n",
    "raw_bed_soup = branch_soup.find_all(\"strong\")\n",
    "raw_address_soup = branch_soup.find(\"h1\")\n",
    "\n",
    "print(raw_price_soup) # done\n",
    "print(raw_bed_soup) # done\n",
    "print(raw_address_soup)"
   ]
  },
  {
   "cell_type": "code",
   "execution_count": 186,
   "metadata": {},
   "outputs": [
    {
     "name": "stdout",
     "output_type": "stream",
     "text": [
      "[<span class=\"Text-c11n-8-73-0__sc-aiai24-0 dpf__sc-1me8eh6-0 kGdfMs fzJCbY\" data-testid=\"price\"><span>$352,000</span></span>]\n",
      "$352,000\n"
     ]
    }
   ],
   "source": [
    "# Price\n",
    "raw_price_soup = str(branch_soup.find_all(\"span\", class_ = \"Text-c11n-8-73-0__sc-aiai24-0 dpf__sc-1me8eh6-0 kGdfMs fzJCbY\"))\n",
    "price_match_object = re.search(\"<span>(.+?)</span>\", raw_price_soup)\n",
    "price = price_match_object.group(1)\n",
    "\n",
    "print(raw_price_soup)\n",
    "print(price)"
   ]
  },
  {
   "cell_type": "code",
   "execution_count": 184,
   "metadata": {},
   "outputs": [
    {
     "name": "stdout",
     "output_type": "stream",
     "text": [
      "beds 3\n",
      "baths 3\n",
      "sq_ft 1,566\n",
      "days_on_zillow 6\n",
      "count_views 3,532\n",
      "count_saves 200\n"
     ]
    }
   ],
   "source": [
    "# Get all attributes besides price and address\n",
    "# Turn this into a function bb\n",
    "\n",
    "# 0 Bed, 1 bath,  2 sqft, 3 days on zillow, 5 views, 6 saves\n",
    "raw_bed_soup = str(branch_soup.find_all(\"strong\"))\n",
    "raw_bed_soup_list = raw_bed_soup.split(' ')\n",
    "count_beds = re.search(\"<strong>(.+?)</strong>\", raw_bed_soup_list[0]).group(1)\n",
    "count_baths = re.search(\"<strong>(.+?)</strong>\", raw_bed_soup_list[1]).group(1)\n",
    "sq_ft = re.search(\"<strong>(.+?)</strong>\", raw_bed_soup_list[2]).group(1)\n",
    "days_on_zillow = re.search(\"<strong>(.+?)\", raw_bed_soup_list[3]).group(1)\n",
    "count_views = re.search(\"<strong>(.+?)</strong>\", raw_bed_soup_list[5]).group(1)\n",
    "count_saves = re.search(\"<strong>(.+?)</strong>\", raw_bed_soup_list[6]).group(1)\n",
    "\n",
    "\n",
    "print(\"beds\",count_beds)\n",
    "print(\"baths\", count_baths)\n",
    "print(\"sq_ft\", sq_ft)\n",
    "print(\"days_on_zillow\", days_on_zillow)\n",
    "print(\"count_views\", count_views)\n",
    "print(\"count_saves\", count_saves)"
   ]
  },
  {
   "cell_type": "code",
   "execution_count": 195,
   "metadata": {},
   "outputs": [
    {
     "name": "stdout",
     "output_type": "stream",
     "text": [
      "<h1 class=\"Text-c11n-8-73-0__sc-aiai24-0 kHeRng\">5904 Endsley Ct,<!-- --> <!-- -->Raleigh, NC 27610</h1>\n"
     ]
    }
   ],
   "source": [
    "print(raw_address_soup)"
   ]
  },
  {
   "cell_type": "code",
   "execution_count": 215,
   "metadata": {},
   "outputs": [
    {
     "name": "stdout",
     "output_type": "stream",
     "text": [
      "\">5904 Endsley Ct,\n",
      " <!-- -->Raleigh, NC 27610\n"
     ]
    }
   ],
   "source": [
    "address = str(raw_address_soup)\n",
    "address_1 = re.search(\"kHeRng(.+?)<!--\", address).group(1)\n",
    "address_2 = re.search(\"<!-- -->(.+?)</h1>\", address).group(1)\n",
    "\n",
    "\n",
    "print(address_1)\n",
    "print(address_2)"
   ]
  },
  {
   "cell_type": "code",
   "execution_count": null,
   "metadata": {},
   "outputs": [],
   "source": [
    "# From intial queried page (e.g., homes in Raleigh) find all links to homedetails page,\n",
    "# which will have more detailed information on the home.\n",
    "\n",
    "# This will be the main base where the scraper will come back to after scraping each\n",
    "# home details page. \n",
    "\n",
    "# Example: queried page -> homedetails page -> scrape data -> queried page \n",
    "# Loop until all homes are scraped, then proceed to next page.\n",
    "soup.find_all(href=re.compile(\"homedetails\"))\n",
    "# soup.select('a[href^=\"https://www.zillow.com/homedetails/\"]')\n"
   ]
  },
  {
   "cell_type": "code",
   "execution_count": 129,
   "metadata": {},
   "outputs": [
    {
     "name": "stdout",
     "output_type": "stream",
     "text": [
      "https://www.zillow.com/homedetails/2717-Hiking-Trl-Raleigh-NC-27615/6495378_zpid/\n"
     ]
    },
    {
     "data": {
      "text/plain": [
       "\"\\nfor count, value in enumerate(test_output_str.split(' ')):\\n    print(count, value)\""
      ]
     },
     "execution_count": 129,
     "metadata": {},
     "output_type": "execute_result"
    }
   ],
   "source": [
    "def find_all_keyword_units(keyword):\n",
    "    \"\"\"Returns a list of keyword matches\"\"\"\n",
    "    keyword_match_list = soup.find_all(href=re.compile(str(keyword)))\n",
    "    return keyword_match_list\n",
    "\n",
    "\n",
    "# Create function to take list and return pruned list including only urls for homedetails\n",
    "def strip_list_to_url(html_list, index=5):\n",
    "    list_to_str = str(html_list)\n",
    "    href_url = list_to_str.split(' ')[index] # Selects index of href with housedetails\n",
    "    href_url_strip = href_url.replace(\"href=\",\"\")\n",
    "    href_url_strip = href_url_strip.replace('\"','')\n",
    "    return href_url_strip\n",
    "\n",
    "print(strip_list_to_url(find_all_keyword_units(\"homedetails\")))\n",
    "\n",
    "\"\"\"\n",
    "for count, value in enumerate(test_output_str.split(' ')):\n",
    "    print(count, value)\"\"\"\n"
   ]
  },
  {
   "cell_type": "code",
   "execution_count": null,
   "metadata": {},
   "outputs": [],
   "source": [
    "# Simply testing function, can remove\n",
    "test_output = find_all_keyword_units(keyword = \"homedetails\")\n",
    "print(test_output)"
   ]
  },
  {
   "cell_type": "code",
   "execution_count": 117,
   "metadata": {},
   "outputs": [
    {
     "name": "stdout",
     "output_type": "stream",
     "text": [
      "https://www.zillow.com/homedetails/5904-Endsley-Ct-Raleigh-NC-27610/65332868_zpid/\n"
     ]
    },
    {
     "data": {
      "text/plain": [
       "\"\\nfor count, value in enumerate(test_output_str.split(' ')):\\n    print(count, value)\""
      ]
     },
     "execution_count": 117,
     "metadata": {},
     "output_type": "execute_result"
    }
   ],
   "source": []
  },
  {
   "cell_type": "markdown",
   "metadata": {},
   "source": [
    "only difference is 2_p for page 2 3_p for page 3\n",
    "\n",
    "https://www.zillow.com/raleigh-nc/luxury-homes/?searchQueryState=%7B%22usersSearchTerm%22%3A%22Raleigh%2C%20NC%22%2C%22mapBounds%22%3A%7B%22west%22%3A-78.92658305517578%2C%22east%22%3A-78.32439494482422%2C%22south%22%3A35.45233694912461%2C%22north%22%3A36.119629123743984%7D%2C%22regionSelection%22%3A%5B%7B%22regionId%22%3A54047%2C%22regionType%22%3A6%7D%5D%2C%22isMapVisible%22%3Atrue%2C%22filterState%22%3A%7B%22sort%22%3A%7B%22value%22%3A%22priced%22%7D%2C%22ah%22%3A%7B%22value%22%3Atrue%7D%7D%2C%22isListVisible%22%3Atrue%2C%22mapZoom%22%3A11%7D\n",
    "\n",
    "https://www.zillow.com/raleigh-nc/luxury-homes/2_p/?searchQueryState=%7B%22usersSearchTerm%22%3A%22Raleigh%2C%20NC%22%2C%22mapBounds%22%3A%7B%22west%22%3A-78.92658305517578%2C%22east%22%3A-78.32439494482422%2C%22south%22%3A35.45233694912461%2C%22north%22%3A36.119629123743984%7D%2C%22regionSelection%22%3A%5B%7B%22regionId%22%3A54047%2C%22regionType%22%3A6%7D%5D%2C%22isMapVisible%22%3Atrue%2C%22filterState%22%3A%7B%22sort%22%3A%7B%22value%22%3A%22priced%22%7D%2C%22ah%22%3A%7B%22value%22%3Atrue%7D%7D%2C%22isListVisible%22%3Atrue%2C%22mapZoom%22%3A11%2C%22pagination%22%3A%7B%22currentPage%22%3A2%7D%7D\n",
    "\n",
    "https://www.zillow.com/raleigh-nc/luxury-homes/3_p/?searchQueryState=%7B%22usersSearchTerm%22%3A%22Raleigh%2C%20NC%22%2C%22mapBounds%22%3A%7B%22west%22%3A-78.92658305517578%2C%22east%22%3A-78.32439494482422%2C%22south%22%3A35.45233694912461%2C%22north%22%3A36.119629123743984%7D%2C%22regionSelection%22%3A%5B%7B%22regionId%22%3A54047%2C%22regionType%22%3A6%7D%5D%2C%22isMapVisible%22%3Atrue%2C%22filterState%22%3A%7B%22sort%22%3A%7B%22value%22%3A%22priced%22%7D%2C%22ah%22%3A%7B%22value%22%3Atrue%7D%7D%2C%22isListVisible%22%3Atrue%2C%22mapZoom%22%3A11%2C%22pagination%22%3A%7B%22currentPage%22%3A3%7D%7D"
   ]
  },
  {
   "cell_type": "code",
   "execution_count": 23,
   "metadata": {},
   "outputs": [
    {
     "ename": "AttributeError",
     "evalue": "'NoneType' object has no attribute 'find'",
     "output_type": "error",
     "traceback": [
      "\u001b[0;31m---------------------------------------------------------------------------\u001b[0m",
      "\u001b[0;31mAttributeError\u001b[0m                            Traceback (most recent call last)",
      "Cell \u001b[0;32mIn [23], line 26\u001b[0m\n\u001b[1;32m     24\u001b[0m \u001b[39mfor\u001b[39;00m link \u001b[39min\u001b[39;00m soup\u001b[39m.\u001b[39mfind_all(\u001b[39m\"\u001b[39m\u001b[39marticle\u001b[39m\u001b[39m\"\u001b[39m):\n\u001b[1;32m     25\u001b[0m     href \u001b[39m=\u001b[39m link\u001b[39m.\u001b[39mfind(\u001b[39m'\u001b[39m\u001b[39ma\u001b[39m\u001b[39m'\u001b[39m,class_\u001b[39m=\u001b[39m\u001b[39m\"\u001b[39m\u001b[39mlist-card-link\u001b[39m\u001b[39m\"\u001b[39m)\n\u001b[0;32m---> 26\u001b[0m     addresses \u001b[39m=\u001b[39m href\u001b[39m.\u001b[39;49mfind(\u001b[39m'\u001b[39m\u001b[39maddress\u001b[39m\u001b[39m'\u001b[39m)\n\u001b[1;32m     27\u001b[0m     addresses\u001b[39m.\u001b[39mextract()\n\u001b[1;32m     28\u001b[0m     urls\u001b[39m.\u001b[39mappend(href)\n",
      "\u001b[0;31mAttributeError\u001b[0m: 'NoneType' object has no attribute 'find'"
     ]
    }
   ],
   "source": [
    "# https://blog.devgenius.io/scraping-zillow-with-python-and-beautifulsoup-bbc7e581c218\n",
    "\n",
    "#create the first two dataframes\n",
    "df = pd.DataFrame()\n",
    "df1 = pd.DataFrame()\n",
    "#all for loops are pulling the specified variable using beautiful soup and inserting into said variable\n",
    "for i in soup:\n",
    "    address = soup.find_all (class_= 'list-card-addr')\n",
    "    price = list(soup.find_all (class_='list-card-price'))\n",
    "    beds = list(soup.find_all(\"ul\", class_=\"list-card-details\"))\n",
    "    details = soup.find_all ('div', {'class': 'list-card-details'})\n",
    "    home_type = soup.find_all ('div', {'class': 'list-card-footer'})\n",
    "    last_updated = soup.find_all ('div', {'class': 'list-card-top'})\n",
    "    brokerage = list(soup.find_all(class_= 'list-card-brokerage list-card-img-overlay',text=True))\n",
    "    link = soup.find_all (class_= 'list-card-link')\n",
    "    \n",
    "    #create dataframe columns out of variables\n",
    "    df['prices'] = price\n",
    "    df['address'] = address\n",
    "    df['beds'] = beds\n",
    "\n",
    "#create empty url list\n",
    "urls = []\n",
    "\n",
    "#loop through url, pull the href and strip out the address tag\n",
    "for link in soup.find_all(\"article\"):\n",
    "    href = link.find('a',class_=\"list-card-link\")\n",
    "    addresses = href.find('address')\n",
    "    addresses.extract()\n",
    "    urls.append(href)\n",
    "\n",
    "#import urls into a links column\n",
    "df['links'] = urls\n",
    "df['links'] = df['links'].astype('str')\n",
    "\n",
    "#remove html tags\n",
    "df['links'] = df['links'].replace('<a class=\"list-card-link\" href=\"', ' ', regex=True)\n",
    "df['links'] = df['links'].replace('\" tabindex=\"0\"></a>', ' ', regex=True)"
   ]
  },
  {
   "cell_type": "code",
   "execution_count": null,
   "metadata": {},
   "outputs": [],
   "source": []
  }
 ],
 "metadata": {
  "kernelspec": {
   "display_name": "Python 3.10.6 ('really-estate-mG1FNr6d-py3.10')",
   "language": "python",
   "name": "python3"
  },
  "language_info": {
   "codemirror_mode": {
    "name": "ipython",
    "version": 3
   },
   "file_extension": ".py",
   "mimetype": "text/x-python",
   "name": "python",
   "nbconvert_exporter": "python",
   "pygments_lexer": "ipython3",
   "version": "3.10.6"
  },
  "orig_nbformat": 4,
  "vscode": {
   "interpreter": {
    "hash": "3d0eff05228884e12a81e7c0d2b79ca80cfc67c833393b3fe7ac3844788baf07"
   }
  }
 },
 "nbformat": 4,
 "nbformat_minor": 2
}
