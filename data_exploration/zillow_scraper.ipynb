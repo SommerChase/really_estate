{
 "cells": [
  {
   "cell_type": "code",
   "execution_count": 1,
   "metadata": {},
   "outputs": [],
   "source": [
    "import requests\n",
    "import lxml\n",
    "import pandas as pd\n",
    "from bs4 import BeautifulSoup # Html search tool\n",
    "import re # Regular expressions"
   ]
  },
  {
   "cell_type": "code",
   "execution_count": 2,
   "metadata": {},
   "outputs": [],
   "source": [
    "request_headers = {\n",
    "    'accept': 'text/html,application/xhtml+xml,application/xml;q=0.9,image/webp,image/apng,*/*;q=0.8',\n",
    "    'accept-encoding': 'gzip, deflate, br',\n",
    "    'accept-language': 'en-US,en;q=0.8',\n",
    "    'upgrade-insecure-requests': '1',\n",
    "    'user-agent': 'Mozilla/5.0 (Windows NT 10.0; Win64; x64) AppleWebKit/537.36 (KHTML, like Gecko) Chrome/61.0.3163.100 Safari/537.36'\n",
    "    }"
   ]
  },
  {
   "cell_type": "code",
   "execution_count": 3,
   "metadata": {},
   "outputs": [],
   "source": [
    "def get_all_urls(city_state_abbr=\"raleigh-nc/\"):\n",
    "\n",
    "    url_setup = \"https://www.zillow.com/\" + city_state_abbr\n",
    "    main_request_setup = requests.get(url_setup, headers=request_headers)\n",
    "    page_soup = BeautifulSoup(main_request_setup.content).find_all(\"span\", class_ = \"Text-c11n-8-73-8__sc-aiai24-0 bKahKV\")\n",
    "\n",
    "    page_soup_max_number = int(re.search(\"Page <!-- -->1<!-- --> of <!-- -->(.+?)</span>\", str(page_soup)).group(1))\n",
    "\n",
    "    full_list_urls = []\n",
    "\n",
    "    for page_number in range(1, page_soup_max_number + 1):\n",
    "        url = \"https://www.zillow.com/\" + city_state_abbr + str(page_number) + \"_p\"\n",
    "        main_request = requests.get(url, headers=request_headers)\n",
    "        main_re_search = list(set(re.findall(\"https://www.zillow.com/homedetails/(.+?)_zpid\", str(main_request.content))))\n",
    "        full_list_urls.append(main_re_search)\n",
    "\n",
    "    flat_full_llist_urls = [item for sublist in full_list_urls for item in sublist]\n",
    "\n",
    "    return flat_full_llist_urls"
   ]
  },
  {
   "cell_type": "code",
   "execution_count": 5,
   "metadata": {},
   "outputs": [],
   "source": [
    "def get_full_url_branch(re_search_set):\n",
    "\n",
    "    full_url_list = []\n",
    "\n",
    "    for url in re_search_set:\n",
    "        #print(url)\n",
    "        full_url = \"https://www.zillow.com/homedetails/\" + url + \"_zpid\"\n",
    "        #print(full_url)\n",
    "        full_url_list.append(full_url)\n",
    "    \n",
    "    return full_url_list\n",
    "\n",
    "# print(get_full_url_branch(main_re_search))"
   ]
  },
  {
   "cell_type": "code",
   "execution_count": 44,
   "metadata": {},
   "outputs": [],
   "source": [
    "def get_request_soup_and_parse(list_of_full_urls_to_scrape):\n",
    "\n",
    "    final_data_list = []\n",
    "    \n",
    "    for url in list_of_full_urls_to_scrape:\n",
    "        branch_response = requests.get(url, headers=request_headers)\n",
    "        soup = BeautifulSoup(branch_response.content, \"html.parser\")\n",
    "\n",
    "        raw_price_soup = soup.find_all(\"span\", class_ = \"Text-c11n-8-73-0__sc-aiai24-0 dpf__sc-1me8eh6-0 kGdfMs fzJCbY\")\n",
    "\n",
    "\n",
    "        # Price\n",
    "        raw_price_soup = str(soup.find_all(\"span\", class_ = \"Text-c11n-8-73-0__sc-aiai24-0 dpf__sc-1me8eh6-0 kGdfMs fzJCbY\"))\n",
    "        price_match_object = re.search(\"<span>(.+?)</span>\", raw_price_soup)\n",
    "        price = price_match_object.group(1)\n",
    "\n",
    "        # Attributes list: 0 Bed, 1 bath,  2 sqft, 3 days on zillow, 5 views, 6 saves\n",
    "        raw_bed_soup = str(soup.find_all(\"strong\"))\n",
    "        raw_bed_soup_list = raw_bed_soup.split(', ') # Holy balls spent 4 hours on this.\n",
    "\n",
    "        count_beds = re.search(\"<strong>(.+?)</strong>\", raw_bed_soup_list[0]).group(1)\n",
    "        count_baths = re.search(\"<strong>(.+?)</strong>\", raw_bed_soup_list[1]).group(1)\n",
    "        sq_ft = re.search(\"<strong>(.+?)</strong>\", raw_bed_soup_list[2]).group(1)\n",
    "        days_on_zillow = re.search(\"<strong>(.+?)\", raw_bed_soup_list[3]).group(1)\n",
    "        #count_views = re.search(\"<strong>(.+?)</strong>\", raw_bed_soup_list[4])#.group(1)\n",
    "        #count_saves = re.search(\"<strong>(.+?)</strong>\", raw_bed_soup_list[5])#.group(1)\n",
    "\n",
    "        raw_address_soup = soup.find(\"h1\")\n",
    "        # Done\n",
    "        address = str(raw_address_soup)\n",
    "        address_1 = re.search(\"kHeRng(.+?)<!--\", address).group(1)[2:]\n",
    "        address_2 = re.search(\"<!-- -->(.+?)</h1>\", address).group(1)[9:]\n",
    "        address_full = address_1 + ' ' + address_2\n",
    "\n",
    "        final_data_list.append([address_full, price, count_beds, count_baths, sq_ft, days_on_zillow])#, count_views, count_saves])\n",
    "\n",
    "    return final_data_list\n",
    "        "
   ]
  },
  {
   "cell_type": "code",
   "execution_count": 47,
   "metadata": {},
   "outputs": [
    {
     "data": {
      "text/html": [
       "<div>\n",
       "<style scoped>\n",
       "    .dataframe tbody tr th:only-of-type {\n",
       "        vertical-align: middle;\n",
       "    }\n",
       "\n",
       "    .dataframe tbody tr th {\n",
       "        vertical-align: top;\n",
       "    }\n",
       "\n",
       "    .dataframe thead th {\n",
       "        text-align: right;\n",
       "    }\n",
       "</style>\n",
       "<table border=\"1\" class=\"dataframe\">\n",
       "  <thead>\n",
       "    <tr style=\"text-align: right;\">\n",
       "      <th></th>\n",
       "      <th>address_full</th>\n",
       "      <th>price</th>\n",
       "      <th>count_beds</th>\n",
       "      <th>count_baths</th>\n",
       "      <th>sq_ft</th>\n",
       "      <th>days_on_zillow</th>\n",
       "    </tr>\n",
       "  </thead>\n",
       "  <tbody>\n",
       "    <tr>\n",
       "      <th>0</th>\n",
       "      <td>4221 Laurel Ridge Dr, Raleigh, NC 27612</td>\n",
       "      <td>$1,395,000</td>\n",
       "      <td>2</td>\n",
       "      <td>2</td>\n",
       "      <td>2,128</td>\n",
       "      <td>3</td>\n",
       "    </tr>\n",
       "    <tr>\n",
       "      <th>1</th>\n",
       "      <td>4800 Patton Ridge Ct, Raleigh, NC 27612</td>\n",
       "      <td>$929,000</td>\n",
       "      <td>5</td>\n",
       "      <td>5</td>\n",
       "      <td>3,644</td>\n",
       "      <td>5</td>\n",
       "    </tr>\n",
       "    <tr>\n",
       "      <th>2</th>\n",
       "      <td>3008 Dawnbrook Dr, Raleigh, NC 27604</td>\n",
       "      <td>$415,000</td>\n",
       "      <td>4</td>\n",
       "      <td>3</td>\n",
       "      <td>2,775</td>\n",
       "      <td>2</td>\n",
       "    </tr>\n",
       "    <tr>\n",
       "      <th>3</th>\n",
       "      <td>1415 Beacon Village Dr, Raleigh, NC 27604</td>\n",
       "      <td>$299,900</td>\n",
       "      <td>3</td>\n",
       "      <td>2</td>\n",
       "      <td>1,076</td>\n",
       "      <td>8</td>\n",
       "    </tr>\n",
       "    <tr>\n",
       "      <th>4</th>\n",
       "      <td>5901 Rivercliff Ct, Raleigh, NC 27610</td>\n",
       "      <td>$375,000</td>\n",
       "      <td>4</td>\n",
       "      <td>3</td>\n",
       "      <td>2,200</td>\n",
       "      <td>5</td>\n",
       "    </tr>\n",
       "  </tbody>\n",
       "</table>\n",
       "</div>"
      ],
      "text/plain": [
       "                                address_full       price count_beds  \\\n",
       "0    4221 Laurel Ridge Dr, Raleigh, NC 27612  $1,395,000          2   \n",
       "1    4800 Patton Ridge Ct, Raleigh, NC 27612    $929,000          5   \n",
       "2       3008 Dawnbrook Dr, Raleigh, NC 27604    $415,000          4   \n",
       "3  1415 Beacon Village Dr, Raleigh, NC 27604    $299,900          3   \n",
       "4      5901 Rivercliff Ct, Raleigh, NC 27610    $375,000          4   \n",
       "\n",
       "  count_baths  sq_ft days_on_zillow  \n",
       "0           2  2,128              3  \n",
       "1           5  3,644              5  \n",
       "2           3  2,775              2  \n",
       "3           2  1,076              8  \n",
       "4           3  2,200              5  "
      ]
     },
     "execution_count": 47,
     "metadata": {},
     "output_type": "execute_result"
    }
   ],
   "source": [
    "#14m 51s\n",
    "zillow_df = pd.DataFrame(get_request_soup_and_parse(get_full_url_branch(get_all_urls())), \n",
    "                         columns=[\"address_full\", \n",
    "                                    \"price\", \n",
    "                                    \"count_beds\", \n",
    "                                    \"count_baths\", \n",
    "                                    \"sq_ft\", \n",
    "                                    \"days_on_zillow\"])\n",
    "zillow_df.shape\n",
    "zillow_df.head()"
   ]
  },
  {
   "cell_type": "code",
   "execution_count": 57,
   "metadata": {},
   "outputs": [
    {
     "ename": "ValueError",
     "evalue": "Columns must be same length as key",
     "output_type": "error",
     "traceback": [
      "\u001b[0;31m---------------------------------------------------------------------------\u001b[0m",
      "\u001b[0;31mValueError\u001b[0m                                Traceback (most recent call last)",
      "Cell \u001b[0;32mIn [57], line 2\u001b[0m\n\u001b[1;32m      1\u001b[0m zillow_df[[\u001b[39m\"\u001b[39m\u001b[39maddress\u001b[39m\u001b[39m\"\u001b[39m, \u001b[39m\"\u001b[39m\u001b[39mcity\u001b[39m\u001b[39m\"\u001b[39m, \u001b[39m\"\u001b[39m\u001b[39mstate_zip\u001b[39m\u001b[39m\"\u001b[39m]] \u001b[39m=\u001b[39m zillow_df[\u001b[39m\"\u001b[39m\u001b[39maddress_full\u001b[39m\u001b[39m\"\u001b[39m]\u001b[39m.\u001b[39mstr\u001b[39m.\u001b[39msplit(\u001b[39m'\u001b[39m\u001b[39m,\u001b[39m\u001b[39m'\u001b[39m, expand\u001b[39m=\u001b[39m\u001b[39mTrue\u001b[39;00m)\n\u001b[0;32m----> 2\u001b[0m zillow_df[[\u001b[39m\"\u001b[39;49m\u001b[39mstate_abrev\u001b[39;49m\u001b[39m\"\u001b[39;49m, \u001b[39m\"\u001b[39;49m\u001b[39mzip_code\u001b[39;49m\u001b[39m\"\u001b[39;49m]] \u001b[39m=\u001b[39m zillow_df[\u001b[39m\"\u001b[39m\u001b[39mstate_zip\u001b[39m\u001b[39m\"\u001b[39m]\u001b[39m.\u001b[39mstr\u001b[39m.\u001b[39msplit(\u001b[39m'\u001b[39m\u001b[39m \u001b[39m\u001b[39m'\u001b[39m, expand\u001b[39m=\u001b[39m\u001b[39mTrue\u001b[39;00m)\n\u001b[1;32m      3\u001b[0m zillow_df\n",
      "File \u001b[0;32m~/.cache/pypoetry/virtualenvs/really-estate-mG1FNr6d-py3.10/lib/python3.10/site-packages/pandas/core/frame.py:3965\u001b[0m, in \u001b[0;36mDataFrame.__setitem__\u001b[0;34m(self, key, value)\u001b[0m\n\u001b[1;32m   3963\u001b[0m     \u001b[39mself\u001b[39m\u001b[39m.\u001b[39m_setitem_frame(key, value)\n\u001b[1;32m   3964\u001b[0m \u001b[39melif\u001b[39;00m \u001b[39misinstance\u001b[39m(key, (Series, np\u001b[39m.\u001b[39mndarray, \u001b[39mlist\u001b[39m, Index)):\n\u001b[0;32m-> 3965\u001b[0m     \u001b[39mself\u001b[39;49m\u001b[39m.\u001b[39;49m_setitem_array(key, value)\n\u001b[1;32m   3966\u001b[0m \u001b[39melif\u001b[39;00m \u001b[39misinstance\u001b[39m(value, DataFrame):\n\u001b[1;32m   3967\u001b[0m     \u001b[39mself\u001b[39m\u001b[39m.\u001b[39m_set_item_frame_value(key, value)\n",
      "File \u001b[0;32m~/.cache/pypoetry/virtualenvs/really-estate-mG1FNr6d-py3.10/lib/python3.10/site-packages/pandas/core/frame.py:4007\u001b[0m, in \u001b[0;36mDataFrame._setitem_array\u001b[0;34m(self, key, value)\u001b[0m\n\u001b[1;32m   4002\u001b[0m \u001b[39melse\u001b[39;00m:\n\u001b[1;32m   4003\u001b[0m     \u001b[39m# Note: unlike self.iloc[:, indexer] = value, this will\u001b[39;00m\n\u001b[1;32m   4004\u001b[0m     \u001b[39m#  never try to overwrite values inplace\u001b[39;00m\n\u001b[1;32m   4006\u001b[0m     \u001b[39mif\u001b[39;00m \u001b[39misinstance\u001b[39m(value, DataFrame):\n\u001b[0;32m-> 4007\u001b[0m         check_key_length(\u001b[39mself\u001b[39;49m\u001b[39m.\u001b[39;49mcolumns, key, value)\n\u001b[1;32m   4008\u001b[0m         \u001b[39mfor\u001b[39;00m k1, k2 \u001b[39min\u001b[39;00m \u001b[39mzip\u001b[39m(key, value\u001b[39m.\u001b[39mcolumns):\n\u001b[1;32m   4009\u001b[0m             \u001b[39mself\u001b[39m[k1] \u001b[39m=\u001b[39m value[k2]\n",
      "File \u001b[0;32m~/.cache/pypoetry/virtualenvs/really-estate-mG1FNr6d-py3.10/lib/python3.10/site-packages/pandas/core/indexers/utils.py:401\u001b[0m, in \u001b[0;36mcheck_key_length\u001b[0;34m(columns, key, value)\u001b[0m\n\u001b[1;32m    399\u001b[0m \u001b[39mif\u001b[39;00m columns\u001b[39m.\u001b[39mis_unique:\n\u001b[1;32m    400\u001b[0m     \u001b[39mif\u001b[39;00m \u001b[39mlen\u001b[39m(value\u001b[39m.\u001b[39mcolumns) \u001b[39m!=\u001b[39m \u001b[39mlen\u001b[39m(key):\n\u001b[0;32m--> 401\u001b[0m         \u001b[39mraise\u001b[39;00m \u001b[39mValueError\u001b[39;00m(\u001b[39m\"\u001b[39m\u001b[39mColumns must be same length as key\u001b[39m\u001b[39m\"\u001b[39m)\n\u001b[1;32m    402\u001b[0m \u001b[39melse\u001b[39;00m:\n\u001b[1;32m    403\u001b[0m     \u001b[39m# Missing keys in columns are represented as -1\u001b[39;00m\n\u001b[1;32m    404\u001b[0m     \u001b[39mif\u001b[39;00m \u001b[39mlen\u001b[39m(columns\u001b[39m.\u001b[39mget_indexer_non_unique(key)[\u001b[39m0\u001b[39m]) \u001b[39m!=\u001b[39m \u001b[39mlen\u001b[39m(value\u001b[39m.\u001b[39mcolumns):\n",
      "\u001b[0;31mValueError\u001b[0m: Columns must be same length as key"
     ]
    }
   ],
   "source": [
    "zillow_df[[\"address\", \"city\", \"state_zip\"]] = zillow_df[\"address_full\"].str.split(',', expand=True)\n",
    "#zillow_df[[\"state_abrev\", \"zip_code\"]] = zillow_df[\"state_zip\"].str.split(' ', expand=True)\n",
    "zillow_df"
   ]
  }
 ],
 "metadata": {
  "kernelspec": {
   "display_name": "Python 3.10.6 ('really-estate-mG1FNr6d-py3.10')",
   "language": "python",
   "name": "python3"
  },
  "language_info": {
   "codemirror_mode": {
    "name": "ipython",
    "version": 3
   },
   "file_extension": ".py",
   "mimetype": "text/x-python",
   "name": "python",
   "nbconvert_exporter": "python",
   "pygments_lexer": "ipython3",
   "version": "3.10.6"
  },
  "orig_nbformat": 4,
  "vscode": {
   "interpreter": {
    "hash": "3d0eff05228884e12a81e7c0d2b79ca80cfc67c833393b3fe7ac3844788baf07"
   }
  }
 },
 "nbformat": 4,
 "nbformat_minor": 2
}
