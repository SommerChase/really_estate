{
 "cells": [
  {
   "cell_type": "code",
   "execution_count": 72,
   "metadata": {},
   "outputs": [],
   "source": [
    "import requests\n",
    "import lxml\n",
    "import pandas as pd\n",
    "from bs4 import BeautifulSoup # Html search tool\n",
    "import re # Regular expressions"
   ]
  },
  {
   "cell_type": "code",
   "execution_count": null,
   "metadata": {},
   "outputs": [],
   "source": [
    "response = requests.get(\"https://www.zillow.com/homes/Raleigh,-NC_rb/\")\n",
    "print(response.text)"
   ]
  },
  {
   "cell_type": "code",
   "execution_count": 85,
   "metadata": {},
   "outputs": [],
   "source": [
    "# Header required to circumvent captcha\n",
    "req_headers = {\n",
    "    'accept': 'text/html,application/xhtml+xml,application/xml;q=0.9,image/webp,image/apng,*/*;q=0.8',\n",
    "    'accept-encoding': 'gzip, deflate, br',\n",
    "    'accept-language': 'en-US,en;q=0.8',\n",
    "    'upgrade-insecure-requests': '1',\n",
    "    'user-agent': 'Mozilla/5.0 (Windows NT 10.0; Win64; x64) AppleWebKit/537.36 (KHTML, like Gecko) Chrome/61.0.3163.100 Safari/537.36'\n",
    "}\n",
    "\n",
    "with requests.Session() as s:\n",
    "   city_state_abbr = 'raleigh-nc/' #*****change this city to what you want*****\n",
    "   url = 'https://www.zillow.com/' + city_state_abbr\n",
    "   r = s.get(url, headers=req_headers)"
   ]
  },
  {
   "cell_type": "code",
   "execution_count": 88,
   "metadata": {},
   "outputs": [],
   "source": [
    "#add contents of urls to soup variable from each url\n",
    "soup = BeautifulSoup(r.content, \"html.parser\")"
   ]
  },
  {
   "cell_type": "code",
   "execution_count": null,
   "metadata": {},
   "outputs": [],
   "source": []
  },
  {
   "cell_type": "code",
   "execution_count": null,
   "metadata": {},
   "outputs": [],
   "source": [
    "# From intial queried page (e.g., homes in Raleigh) find all links to homedetails page,\n",
    "# which will have more detailed information on the home.\n",
    "\n",
    "# This will be the main base where the scraper will come back to after scraping each\n",
    "# home details page. \n",
    "\n",
    "# Example: queried page -> homedetails page -> scrape data -> queried page \n",
    "# Loop until all homes are scraped, then proceed to next page.\n",
    "soup.find_all(href=re.compile(\"homedetails\"))\n",
    "# soup.select('a[href^=\"https://www.zillow.com/homedetails/\"]')\n"
   ]
  },
  {
   "cell_type": "code",
   "execution_count": 120,
   "metadata": {},
   "outputs": [
    {
     "name": "stdout",
     "output_type": "stream",
     "text": [
      "https://www.zillow.com/homedetails/5904-Endsley-Ct-Raleigh-NC-27610/65332868_zpid/\n"
     ]
    },
    {
     "data": {
      "text/plain": [
       "\"\\nfor count, value in enumerate(test_output_str.split(' ')):\\n    print(count, value)\""
      ]
     },
     "execution_count": 120,
     "metadata": {},
     "output_type": "execute_result"
    }
   ],
   "source": [
    "def find_all_keyword_units(keyword):\n",
    "    \"\"\"Returns a list of keyword matches\"\"\"\n",
    "    keyword_match_list = soup.find_all(href=re.compile(str(keyword)))\n",
    "    return keyword_match_list\n",
    "\n",
    "\n",
    "# Create function to take list and return pruned list including only urls for homedetails\n",
    "def strip_list_to_url(html_list, index=5):\n",
    "    list_to_str = str(html_list)\n",
    "    href_url = list_to_str.split(' ')[index] # Selects index of href with housedetails\n",
    "    href_url_strip = href_url.replace(\"href=\",\"\")\n",
    "    href_url_strip = href_url_strip.replace('\"','')\n",
    "    return href_url_strip\n",
    "\n",
    "print(strip_list_to_url(find_all_keyword_units(\"homedetails\")))\n",
    "\n",
    "\"\"\"\n",
    "for count, value in enumerate(test_output_str.split(' ')):\n",
    "    print(count, value)\"\"\"\n"
   ]
  },
  {
   "cell_type": "code",
   "execution_count": 107,
   "metadata": {},
   "outputs": [
    {
     "name": "stdout",
     "output_type": "stream",
     "text": [
      "[<a class=\"StyledPropertyCardDataArea-c11n-8-73-8__sc-yipmu-0 lhIXlm property-card-link\" data-test=\"property-card-link\" href=\"https://www.zillow.com/homedetails/5904-Endsley-Ct-Raleigh-NC-27610/65332868_zpid/\" tabindex=\"0\"><address data-test=\"property-card-addr\">5904 Endsley Ct, Raleigh, NC 27610</address></a>, <a aria-hidden=\"false\" class=\"property-card-link\" data-test=\"property-card-link\" href=\"https://www.zillow.com/homedetails/5904-Endsley-Ct-Raleigh-NC-27610/65332868_zpid/\" tabindex=\"-1\"><div class=\"StyledPropertyCardPhoto-c11n-8-73-8__sc-ormo34-0 ijneAT srp__sc-1u5uvur-0 bofBEz\"><img alt=\"5904 Endsley Ct, Raleigh, NC 27610\" aria-hidden=\"false\" class=\"Image-c11n-8-73-8__sc-1rtmhsc-0 emzIcX\" src=\"https://photos.zillowstatic.com/fp/7a57ff006859dce7652880ac71e6135a-p_e.jpg\"/></div></a>, <a class=\"StyledPropertyCardDataArea-c11n-8-73-8__sc-yipmu-0 lhIXlm property-card-link\" data-test=\"property-card-link\" href=\"https://www.zillow.com/homedetails/2717-Hiking-Trl-Raleigh-NC-27615/6495378_zpid/\" tabindex=\"0\"><address data-test=\"property-card-addr\">2717 Hiking Trl, Raleigh, NC 27615</address></a>, <a aria-hidden=\"false\" class=\"property-card-link\" data-test=\"property-card-link\" href=\"https://www.zillow.com/homedetails/2717-Hiking-Trl-Raleigh-NC-27615/6495378_zpid/\" tabindex=\"-1\"><div class=\"StyledPropertyCardPhoto-c11n-8-73-8__sc-ormo34-0 ijneAT srp__sc-1u5uvur-0 bofBEz\"><img alt=\"2717 Hiking Trl, Raleigh, NC 27615\" aria-hidden=\"false\" class=\"Image-c11n-8-73-8__sc-1rtmhsc-0 emzIcX\" src=\"https://photos.zillowstatic.com/fp/3bd6c470e9e6e455b912bd06857da17e-p_e.jpg\"/></div></a>, <a class=\"StyledPropertyCardDataArea-c11n-8-73-8__sc-yipmu-0 lhIXlm property-card-link\" data-test=\"property-card-link\" href=\"https://www.zillow.com/homedetails/8308-Grey-Abbey-Pl-Raleigh-NC-27615/6493189_zpid/\" tabindex=\"0\"><address data-test=\"property-card-addr\">8308 Grey Abbey Pl, Raleigh, NC 27615</address></a>, <a aria-hidden=\"false\" class=\"property-card-link\" data-test=\"property-card-link\" href=\"https://www.zillow.com/homedetails/8308-Grey-Abbey-Pl-Raleigh-NC-27615/6493189_zpid/\" tabindex=\"-1\"><div class=\"StyledPropertyCardPhoto-c11n-8-73-8__sc-ormo34-0 ijneAT srp__sc-1u5uvur-0 bofBEz\"><img alt=\"8308 Grey Abbey Pl, Raleigh, NC 27615\" aria-hidden=\"false\" class=\"Image-c11n-8-73-8__sc-1rtmhsc-0 emzIcX\" src=\"https://photos.zillowstatic.com/fp/940057c63291b1725173479fa7a6061d-p_e.jpg\"/></div></a>, <a class=\"StyledPropertyCardDataArea-c11n-8-73-8__sc-yipmu-0 lhIXlm property-card-link\" data-test=\"property-card-link\" href=\"https://www.zillow.com/homedetails/5812-Coffey-St-Raleigh-NC-27604/6427532_zpid/\" tabindex=\"0\"><address data-test=\"property-card-addr\">5812 Coffey St, Raleigh, NC 27604</address></a>, <a aria-hidden=\"false\" class=\"property-card-link\" data-test=\"property-card-link\" href=\"https://www.zillow.com/homedetails/5812-Coffey-St-Raleigh-NC-27604/6427532_zpid/\" tabindex=\"-1\"><div class=\"StyledPropertyCardPhoto-c11n-8-73-8__sc-ormo34-0 ijneAT srp__sc-1u5uvur-0 bofBEz\"><img alt=\"5812 Coffey St, Raleigh, NC 27604\" aria-hidden=\"false\" class=\"Image-c11n-8-73-8__sc-1rtmhsc-0 emzIcX\" src=\"https://photos.zillowstatic.com/fp/fa44039a3dd7df43654435128c1c8c5d-p_e.jpg\"/></div></a>, <a class=\"StyledPropertyCardDataArea-c11n-8-73-8__sc-yipmu-0 lhIXlm property-card-link\" data-test=\"property-card-link\" href=\"https://www.zillow.com/homedetails/2108-Ramseur-St-Raleigh-NC-27610/6398826_zpid/\" tabindex=\"0\"><address data-test=\"property-card-addr\">2108 Ramseur St, Raleigh, NC 27610</address></a>, <a aria-hidden=\"false\" class=\"property-card-link\" data-test=\"property-card-link\" href=\"https://www.zillow.com/homedetails/2108-Ramseur-St-Raleigh-NC-27610/6398826_zpid/\" tabindex=\"-1\"><div class=\"StyledPropertyCardPhoto-c11n-8-73-8__sc-ormo34-0 ijneAT srp__sc-1u5uvur-0 bofBEz\"><img alt=\"2108 Ramseur St, Raleigh, NC 27610\" aria-hidden=\"false\" class=\"Image-c11n-8-73-8__sc-1rtmhsc-0 emzIcX\" src=\"https://photos.zillowstatic.com/fp/a7b2a6e74c311274e82634f6f5a40b8c-p_e.jpg\"/></div></a>, <a class=\"StyledPropertyCardDataArea-c11n-8-73-8__sc-yipmu-0 lhIXlm property-card-link\" data-test=\"property-card-link\" href=\"https://www.zillow.com/homedetails/4209-Willow-Lake-Rd-Raleigh-NC-27616/6547491_zpid/\" tabindex=\"0\"><address data-test=\"property-card-addr\">4209 Willow Lake Rd, Raleigh, NC 27616</address></a>, <a aria-hidden=\"false\" class=\"property-card-link\" data-test=\"property-card-link\" href=\"https://www.zillow.com/homedetails/4209-Willow-Lake-Rd-Raleigh-NC-27616/6547491_zpid/\" tabindex=\"-1\"><div class=\"StyledPropertyCardPhoto-c11n-8-73-8__sc-ormo34-0 ijneAT srp__sc-1u5uvur-0 bofBEz\"><img alt=\"4209 Willow Lake Rd, Raleigh, NC 27616\" aria-hidden=\"false\" class=\"Image-c11n-8-73-8__sc-1rtmhsc-0 emzIcX\" src=\"https://photos.zillowstatic.com/fp/39adf5527352fea6f7d82f26f4adfbc2-p_e.jpg\"/></div></a>, <a class=\"StyledPropertyCardDataArea-c11n-8-73-8__sc-yipmu-0 lhIXlm property-card-link\" data-test=\"property-card-link\" href=\"https://www.zillow.com/homedetails/5901-Canewood-Pl-Raleigh-NC-27612/6530227_zpid/\" tabindex=\"0\"><address data-test=\"property-card-addr\">5901 Canewood Pl, Raleigh, NC 27612</address></a>, <a aria-hidden=\"false\" class=\"property-card-link\" data-test=\"property-card-link\" href=\"https://www.zillow.com/homedetails/5901-Canewood-Pl-Raleigh-NC-27612/6530227_zpid/\" tabindex=\"-1\"><div class=\"StyledPropertyCardPhoto-c11n-8-73-8__sc-ormo34-0 ijneAT srp__sc-1u5uvur-0 bofBEz\"><img alt=\"5901 Canewood Pl, Raleigh, NC 27612\" aria-hidden=\"false\" class=\"Image-c11n-8-73-8__sc-1rtmhsc-0 emzIcX\" src=\"https://photos.zillowstatic.com/fp/d132523e57f68cdfeaeb70f47bc1a29f-p_e.jpg\"/></div></a>, <a class=\"StyledPropertyCardDataArea-c11n-8-73-8__sc-yipmu-0 lhIXlm property-card-link\" data-test=\"property-card-link\" href=\"https://www.zillow.com/homedetails/3213-Flintshire-Rd-Raleigh-NC-27604/6483394_zpid/\" tabindex=\"0\"><address data-test=\"property-card-addr\">3213 Flintshire Rd, Raleigh, NC 27604</address></a>, <a aria-hidden=\"false\" class=\"property-card-link\" data-test=\"property-card-link\" href=\"https://www.zillow.com/homedetails/3213-Flintshire-Rd-Raleigh-NC-27604/6483394_zpid/\" tabindex=\"-1\"><div class=\"StyledPropertyCardPhoto-c11n-8-73-8__sc-ormo34-0 ijneAT srp__sc-1u5uvur-0 bofBEz\"><img alt=\"3213 Flintshire Rd, Raleigh, NC 27604\" aria-hidden=\"false\" class=\"Image-c11n-8-73-8__sc-1rtmhsc-0 emzIcX\" src=\"https://photos.zillowstatic.com/fp/60ba758a8810c3909a494262e95add5f-p_e.jpg\"/></div></a>, <a class=\"StyledPropertyCardDataArea-c11n-8-73-8__sc-yipmu-0 lhIXlm property-card-link\" data-test=\"property-card-link\" href=\"https://www.zillow.com/homedetails/522-E-Hargett-St-Raleigh-NC-27601/6505478_zpid/\" tabindex=\"0\"><address data-test=\"property-card-addr\">522 E Hargett St, Raleigh, NC 27601</address></a>, <a aria-hidden=\"false\" class=\"property-card-link\" data-test=\"property-card-link\" href=\"https://www.zillow.com/homedetails/522-E-Hargett-St-Raleigh-NC-27601/6505478_zpid/\" tabindex=\"-1\"><div class=\"StyledPropertyCardPhoto-c11n-8-73-8__sc-ormo34-0 ijneAT srp__sc-1u5uvur-0 bofBEz\"><img alt=\"522 E Hargett St, Raleigh, NC 27601\" aria-hidden=\"false\" class=\"Image-c11n-8-73-8__sc-1rtmhsc-0 emzIcX\" src=\"https://photos.zillowstatic.com/fp/706f4751325960ba56ea37234eb3d67d-p_e.jpg\"/></div></a>]\n"
     ]
    }
   ],
   "source": [
    "# Simply testing function, can remove\n",
    "test_output = find_all_keyword_units(keyword = \"homedetails\")\n",
    "print(test_output)"
   ]
  },
  {
   "cell_type": "code",
   "execution_count": 117,
   "metadata": {},
   "outputs": [
    {
     "name": "stdout",
     "output_type": "stream",
     "text": [
      "https://www.zillow.com/homedetails/5904-Endsley-Ct-Raleigh-NC-27610/65332868_zpid/\n"
     ]
    },
    {
     "data": {
      "text/plain": [
       "\"\\nfor count, value in enumerate(test_output_str.split(' ')):\\n    print(count, value)\""
      ]
     },
     "execution_count": 117,
     "metadata": {},
     "output_type": "execute_result"
    }
   ],
   "source": []
  },
  {
   "cell_type": "markdown",
   "metadata": {},
   "source": [
    "only difference is 2_p for page 2 3_p for page 3\n",
    "\n",
    "https://www.zillow.com/raleigh-nc/luxury-homes/?searchQueryState=%7B%22usersSearchTerm%22%3A%22Raleigh%2C%20NC%22%2C%22mapBounds%22%3A%7B%22west%22%3A-78.92658305517578%2C%22east%22%3A-78.32439494482422%2C%22south%22%3A35.45233694912461%2C%22north%22%3A36.119629123743984%7D%2C%22regionSelection%22%3A%5B%7B%22regionId%22%3A54047%2C%22regionType%22%3A6%7D%5D%2C%22isMapVisible%22%3Atrue%2C%22filterState%22%3A%7B%22sort%22%3A%7B%22value%22%3A%22priced%22%7D%2C%22ah%22%3A%7B%22value%22%3Atrue%7D%7D%2C%22isListVisible%22%3Atrue%2C%22mapZoom%22%3A11%7D\n",
    "\n",
    "https://www.zillow.com/raleigh-nc/luxury-homes/2_p/?searchQueryState=%7B%22usersSearchTerm%22%3A%22Raleigh%2C%20NC%22%2C%22mapBounds%22%3A%7B%22west%22%3A-78.92658305517578%2C%22east%22%3A-78.32439494482422%2C%22south%22%3A35.45233694912461%2C%22north%22%3A36.119629123743984%7D%2C%22regionSelection%22%3A%5B%7B%22regionId%22%3A54047%2C%22regionType%22%3A6%7D%5D%2C%22isMapVisible%22%3Atrue%2C%22filterState%22%3A%7B%22sort%22%3A%7B%22value%22%3A%22priced%22%7D%2C%22ah%22%3A%7B%22value%22%3Atrue%7D%7D%2C%22isListVisible%22%3Atrue%2C%22mapZoom%22%3A11%2C%22pagination%22%3A%7B%22currentPage%22%3A2%7D%7D\n",
    "\n",
    "https://www.zillow.com/raleigh-nc/luxury-homes/3_p/?searchQueryState=%7B%22usersSearchTerm%22%3A%22Raleigh%2C%20NC%22%2C%22mapBounds%22%3A%7B%22west%22%3A-78.92658305517578%2C%22east%22%3A-78.32439494482422%2C%22south%22%3A35.45233694912461%2C%22north%22%3A36.119629123743984%7D%2C%22regionSelection%22%3A%5B%7B%22regionId%22%3A54047%2C%22regionType%22%3A6%7D%5D%2C%22isMapVisible%22%3Atrue%2C%22filterState%22%3A%7B%22sort%22%3A%7B%22value%22%3A%22priced%22%7D%2C%22ah%22%3A%7B%22value%22%3Atrue%7D%7D%2C%22isListVisible%22%3Atrue%2C%22mapZoom%22%3A11%2C%22pagination%22%3A%7B%22currentPage%22%3A3%7D%7D"
   ]
  },
  {
   "cell_type": "code",
   "execution_count": 23,
   "metadata": {},
   "outputs": [
    {
     "ename": "AttributeError",
     "evalue": "'NoneType' object has no attribute 'find'",
     "output_type": "error",
     "traceback": [
      "\u001b[0;31m---------------------------------------------------------------------------\u001b[0m",
      "\u001b[0;31mAttributeError\u001b[0m                            Traceback (most recent call last)",
      "Cell \u001b[0;32mIn [23], line 26\u001b[0m\n\u001b[1;32m     24\u001b[0m \u001b[39mfor\u001b[39;00m link \u001b[39min\u001b[39;00m soup\u001b[39m.\u001b[39mfind_all(\u001b[39m\"\u001b[39m\u001b[39marticle\u001b[39m\u001b[39m\"\u001b[39m):\n\u001b[1;32m     25\u001b[0m     href \u001b[39m=\u001b[39m link\u001b[39m.\u001b[39mfind(\u001b[39m'\u001b[39m\u001b[39ma\u001b[39m\u001b[39m'\u001b[39m,class_\u001b[39m=\u001b[39m\u001b[39m\"\u001b[39m\u001b[39mlist-card-link\u001b[39m\u001b[39m\"\u001b[39m)\n\u001b[0;32m---> 26\u001b[0m     addresses \u001b[39m=\u001b[39m href\u001b[39m.\u001b[39;49mfind(\u001b[39m'\u001b[39m\u001b[39maddress\u001b[39m\u001b[39m'\u001b[39m)\n\u001b[1;32m     27\u001b[0m     addresses\u001b[39m.\u001b[39mextract()\n\u001b[1;32m     28\u001b[0m     urls\u001b[39m.\u001b[39mappend(href)\n",
      "\u001b[0;31mAttributeError\u001b[0m: 'NoneType' object has no attribute 'find'"
     ]
    }
   ],
   "source": [
    "# https://blog.devgenius.io/scraping-zillow-with-python-and-beautifulsoup-bbc7e581c218\n",
    "\n",
    "#create the first two dataframes\n",
    "df = pd.DataFrame()\n",
    "df1 = pd.DataFrame()\n",
    "#all for loops are pulling the specified variable using beautiful soup and inserting into said variable\n",
    "for i in soup:\n",
    "    address = soup.find_all (class_= 'list-card-addr')\n",
    "    price = list(soup.find_all (class_='list-card-price'))\n",
    "    beds = list(soup.find_all(\"ul\", class_=\"list-card-details\"))\n",
    "    details = soup.find_all ('div', {'class': 'list-card-details'})\n",
    "    home_type = soup.find_all ('div', {'class': 'list-card-footer'})\n",
    "    last_updated = soup.find_all ('div', {'class': 'list-card-top'})\n",
    "    brokerage = list(soup.find_all(class_= 'list-card-brokerage list-card-img-overlay',text=True))\n",
    "    link = soup.find_all (class_= 'list-card-link')\n",
    "    \n",
    "    #create dataframe columns out of variables\n",
    "    df['prices'] = price\n",
    "    df['address'] = address\n",
    "    df['beds'] = beds\n",
    "\n",
    "#create empty url list\n",
    "urls = []\n",
    "\n",
    "#loop through url, pull the href and strip out the address tag\n",
    "for link in soup.find_all(\"article\"):\n",
    "    href = link.find('a',class_=\"list-card-link\")\n",
    "    addresses = href.find('address')\n",
    "    addresses.extract()\n",
    "    urls.append(href)\n",
    "\n",
    "#import urls into a links column\n",
    "df['links'] = urls\n",
    "df['links'] = df['links'].astype('str')\n",
    "\n",
    "#remove html tags\n",
    "df['links'] = df['links'].replace('<a class=\"list-card-link\" href=\"', ' ', regex=True)\n",
    "df['links'] = df['links'].replace('\" tabindex=\"0\"></a>', ' ', regex=True)"
   ]
  },
  {
   "cell_type": "code",
   "execution_count": null,
   "metadata": {},
   "outputs": [],
   "source": []
  }
 ],
 "metadata": {
  "kernelspec": {
   "display_name": "Python 3.10.6 ('really-estate-mG1FNr6d-py3.10')",
   "language": "python",
   "name": "python3"
  },
  "language_info": {
   "codemirror_mode": {
    "name": "ipython",
    "version": 3
   },
   "file_extension": ".py",
   "mimetype": "text/x-python",
   "name": "python",
   "nbconvert_exporter": "python",
   "pygments_lexer": "ipython3",
   "version": "3.10.6"
  },
  "orig_nbformat": 4,
  "vscode": {
   "interpreter": {
    "hash": "3d0eff05228884e12a81e7c0d2b79ca80cfc67c833393b3fe7ac3844788baf07"
   }
  }
 },
 "nbformat": 4,
 "nbformat_minor": 2
}
