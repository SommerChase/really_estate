{
 "cells": [
  {
   "cell_type": "code",
   "execution_count": 287,
   "metadata": {},
   "outputs": [],
   "source": [
    "import requests\n",
    "import lxml\n",
    "import pandas as pd\n",
    "from bs4 import BeautifulSoup # Html search tool\n",
    "import re # Regular expressions"
   ]
  },
  {
   "cell_type": "code",
   "execution_count": 288,
   "metadata": {},
   "outputs": [
    {
     "data": {
      "text/plain": [
       "'response = requests.get(\"https://www.zillow.com/homes/Raleigh,-NC_rb/\")\\nprint(response.text)'"
      ]
     },
     "execution_count": 288,
     "metadata": {},
     "output_type": "execute_result"
    }
   ],
   "source": [
    "# I assume this was an old test - pretty sure I can delete\n",
    "\"\"\"response = requests.get(\"https://www.zillow.com/homes/Raleigh,-NC_rb/\")\n",
    "print(response.text)\"\"\""
   ]
  },
  {
   "cell_type": "code",
   "execution_count": 289,
   "metadata": {},
   "outputs": [
    {
     "data": {
      "text/plain": [
       "'\\nwith requests.Session() as main_session:\\n   city_state_abbr = \\'raleigh-nc/\\' #*****change this city to what you want*****\\n   url = \\'https://www.zillow.com/\\' + city_state_abbr\\n   main_request = main_session.get(url, headers=request_headers)\\n\\n# After finding urls from the main page, use those links to open homedetaills page\\nwith requests.Session() as branch_session:\\n    branch_base_url = \"https://www.zillow.com/homedetails/\"\\n    branch_sub_url = \"5904-Endsley-Ct-Raleigh-NC-27610/65332868_zpid/\"\\n\\n    branch_request = branch_session.get(branch_base_url + branch_sub_url, headers=request_headers)\\n\\nbranch_soup = BeautifulSoup(branch_request.content, \"html.parser\")'"
      ]
     },
     "execution_count": 289,
     "metadata": {},
     "output_type": "execute_result"
    }
   ],
   "source": [
    "# Let's not use context managers for now?\n",
    "\"\"\"\n",
    "with requests.Session() as main_session:\n",
    "   city_state_abbr = 'raleigh-nc/' #*****change this city to what you want*****\n",
    "   url = 'https://www.zillow.com/' + city_state_abbr\n",
    "   main_request = main_session.get(url, headers=request_headers)\n",
    "\n",
    "# After finding urls from the main page, use those links to open homedetaills page\n",
    "with requests.Session() as branch_session:\n",
    "    branch_base_url = \"https://www.zillow.com/homedetails/\"\n",
    "    branch_sub_url = \"5904-Endsley-Ct-Raleigh-NC-27610/65332868_zpid/\"\n",
    "\n",
    "    branch_request = branch_session.get(branch_base_url + branch_sub_url, headers=request_headers)\n",
    "\n",
    "branch_soup = BeautifulSoup(branch_request.content, \"html.parser\")\"\"\""
   ]
  },
  {
   "cell_type": "code",
   "execution_count": 311,
   "metadata": {},
   "outputs": [],
   "source": [
    "# Header required to circumvent captcha\n",
    "request_headers = {\n",
    "    'accept': 'text/html,application/xhtml+xml,application/xml;q=0.9,image/webp,image/apng,*/*;q=0.8',\n",
    "    'accept-encoding': 'gzip, deflate, br',\n",
    "    'accept-language': 'en-US,en;q=0.8',\n",
    "    'upgrade-insecure-requests': '1',\n",
    "    'user-agent': 'Mozilla/5.0 (Windows NT 10.0; Win64; x64) AppleWebKit/537.36 (KHTML, like Gecko) Chrome/61.0.3163.100 Safari/537.36'\n",
    "}\n",
    "city_state_abbr = 'raleigh-nc/' #*****change this city to what you want*****\n",
    "url = 'https://www.zillow.com/' + city_state_abbr\n",
    "\n",
    "main_request = requests.get(url, headers=request_headers)"
   ]
  },
  {
   "cell_type": "code",
   "execution_count": 326,
   "metadata": {},
   "outputs": [
    {
     "name": "stdout",
     "output_type": "stream",
     "text": [
      "40\n",
      "{'2712-Sanctuary-Woods-Ln-Raleigh-NC-27606/2060661207', '4209-Willow-Lake-Rd-Raleigh-NC-27616/6547491', '12600-Old-Creedmoor-Rd-Raleigh-NC-27613/6466276', '3801-Birchwood-Ct-Raleigh-NC-27612/6526063', '125-Trails-End-Ct-Raleigh-NC-27614/6492897', '4805-Cardinal-Grove-Blvd-Raleigh-NC-27616/50111716', '5901-Rivercliff-Ct-Raleigh-NC-27610/65332932', '1113-Winterwind-Pl-Raleigh-NC-27615/6502654', '3433-Honey-Ivy-Ln-W-LOT-143-Raleigh-NC-27604/2060658752', '10316-20th-Rd-Raleigh-NC-27603/132205062', '4306-Timberwood-Dr-Raleigh-NC-27612/6493671', '5809-Wakashan-Cir-Raleigh-NC-27603/65336821', '10937-Connally-Ln-Raleigh-NC-27614/60397614', '4735-Quarryman-Rd-Raleigh-NC-27610/89496349', '5920-Dunbarton-Way-Raleigh-NC-27613/6515529', '8010-Upper-Lake-Dr-Raleigh-NC-27615/120875871', '5904-Endsley-Ct-Raleigh-NC-27610/65332868', '5901-Canewood-Pl-Raleigh-NC-27612/6530227', '5518-Spindlewood-Ct-Durham-NC-27703/61727769', '213-Georgetown-Rd-Raleigh-NC-27608/6390514', '3709-Beaver-Creek-Dr-Raleigh-NC-27604/6482798', '4921-Liverpool-Ln-Raleigh-NC-27604/6506286', '3213-Flintshire-Rd-Raleigh-NC-27604/6483394', '11301-Dunleith-Dr-Raleigh-NC-27614/6479003', '3208-Planet-Dr-Raleigh-NC-27604/50109171', '906-Brooks-Ave-Raleigh-NC-27607/6426706', '1625-Heron-Pond-St-W-LOT-128-Raleigh-NC-27604/2060659337', '3429-Honey-Ivy-Ln-W-LOT-142-Raleigh-NC-27604/2060658499', '6524-Perry-Creek-Rd-Raleigh-NC-27616/248748691', '2212-Keith-Dr-Raleigh-NC-27610/6395767', '3401-Sitzman-Ct-Raleigh-NC-27616/6545844', '3445-Honey-Ivy-Ln-W-LOT-146-Raleigh-NC-27604/2060658366', '4728-Queen-Pierrette-St-Raleigh-NC-27610/132258003', '2708-Boxelder-Ct-Raleigh-NC-27610/6485797', '1415-Beacon-Village-Dr-Raleigh-NC-27604/6558186', '8631-Neuse-Club-Ln-APT-108-Raleigh-NC-27616/132294843', '4601-Landover-Woods-Ln-Raleigh-NC-27616/65333576', '3417-Honey-Ivy-Ln-W-LOT-139-Raleigh-NC-27604/2060658686', '4800-Patton-Ridge-Ct-Raleigh-NC-27612/60535350', '2717-Hiking-Trl-Raleigh-NC-27615/6495378'}\n"
     ]
    }
   ],
   "source": [
    "\n",
    "re_search = re.findall(\"https://www.zillow.com/homedetails/(.+?)_zpid\", str(main_request.content))#.group(1)\n",
    "re_search_set = set(re_search)\n",
    "print(len(re_search_set))\n",
    "print(re_search_set)"
   ]
  },
  {
   "cell_type": "code",
   "execution_count": 314,
   "metadata": {},
   "outputs": [
    {
     "name": "stdout",
     "output_type": "stream",
     "text": [
      "18\n",
      "{}\n"
     ]
    }
   ],
   "source": [
    "#add contents of urls to soup variable from each url\n",
    "main_request_soup = BeautifulSoup(main_request.content, \"html.parser\")\n",
    "\n",
    "# From intial queried page (e.g., homes in Raleigh) find all links to homedetails page,\n",
    "# which will have more detailed information on the home.\n",
    "\n",
    "# This will be the main base where the scraper will come back to after scraping each\n",
    "# home details page. \n",
    "\n",
    "# Example: queried page -> homedetails page -> scrape data -> queried page \n",
    "# Loop until all homes are scraped, then proceed to next page.\n",
    "homedetails_urls_list = main_request_soup.find_all(href=re.compile(\"homedetails\"))\n",
    "# homedetails_urls_list = main_request_soup.select('a[href^=\"https://www.zillow.com/homedetails/\"]')\n",
    "\n",
    "print(len(homedetails_urls_list))\n",
    "print(main_request.links)\n"
   ]
  },
  {
   "cell_type": "code",
   "execution_count": null,
   "metadata": {},
   "outputs": [],
   "source": [
    "branch_base_url = \"https://www.zillow.com/homedetails/\"\n",
    "branch_sub_url = \"5904-Endsley-Ct-Raleigh-NC-27610/65332868_zpid/\"\n",
    "\n",
    "# branch_request = branch_session.get(branch_base_url + branch_sub_url, headers=request_headers)\n",
    "\n",
    "branch_response = requests.get(branch_base_url + branch_sub_url, headers=request_headers)\n",
    "\n",
    "branch_response_soup = BeautifulSoup(branch_response.content, \"html.parser\")\n",
    "branch_response_soup.prettify()"
   ]
  },
  {
   "cell_type": "code",
   "execution_count": 293,
   "metadata": {},
   "outputs": [
    {
     "name": "stdout",
     "output_type": "stream",
     "text": [
      "['5904 Endsley Ct, Raleigh, NC 27610', '$352,000', '3', '3', '1,566', '8', '3,940', '229']\n"
     ]
    }
   ],
   "source": [
    "# Create a function that goes into the homedetails branch url and grabs\n",
    "# Price, beds, baths, sqft, days on zillow, views, and saves\n",
    "\n",
    "# branch_homedetails_url = \"https://www.zillow.com/homedetails/2717-Hiking-Trl-Raleigh-NC-27615/6495378_zpid/\"\n",
    "\n",
    "# Find all sections from main_soup that have homedetails. This will be used to get homedetails urls\n",
    "def find_all_keyword_units(keyword=\"homedetails\"):\n",
    "    \"\"\"Returns a list of keyword matches\"\"\"\n",
    "    keyword_match_list = main_request_soup.find_all(href=re.compile(str(keyword)))\n",
    "    return keyword_match_list\n",
    "\n",
    "\n",
    "# Create function to take list and return pruned list including only urls for homedetails\n",
    "def strip_list_to_url(html_list, index=5):\n",
    "    \"\"\"Takes keyword soup search, parses it into a list, and selects the homedetails url\"\"\"\n",
    "    list_to_str = str(html_list)\n",
    "    href_url = list_to_str.split(' ')[index] # Selects index of href with housedetails\n",
    "    href_url_strip = href_url.replace(\"href=\",\"\")\n",
    "    href_url_strip = href_url_strip.replace('\"','')\n",
    "    return href_url_strip\n",
    "\n",
    "def scrape_homedetails(branch_homedetails_url):\n",
    "    \"\"\"\n",
    "    Scrape the homedetails url for price, beds, baths, \n",
    "    sqft, days on zillow, views, and saves\n",
    "    \"\"\"\n",
    "    # Raw soups\n",
    "    raw_price_soup = branch_response_soup.find_all(\"span\", class_ = \"Text-c11n-8-73-0__sc-aiai24-0 dpf__sc-1me8eh6-0 kGdfMs fzJCbY\")\n",
    "    raw_bed_soup = branch_response_soup.find_all(\"strong\")\n",
    "    raw_address_soup = branch_response_soup.find(\"h1\")\n",
    "\n",
    "    # Price\n",
    "    raw_price_soup = str(branch_response_soup.find_all(\"span\", class_ = \"Text-c11n-8-73-0__sc-aiai24-0 dpf__sc-1me8eh6-0 kGdfMs fzJCbY\"))\n",
    "    price_match_object = re.search(\"<span>(.+?)</span>\", raw_price_soup)\n",
    "    price = price_match_object.group(1)\n",
    "\n",
    "    # Attributes list: 0 Bed, 1 bath,  2 sqft, 3 days on zillow, 5 views, 6 saves\n",
    "    raw_bed_soup = str(branch_response_soup.find_all(\"strong\"))\n",
    "    raw_bed_soup_list = raw_bed_soup.split(' ')\n",
    "    # Attributes\n",
    "    count_beds = re.search(\"<strong>(.+?)</strong>\", raw_bed_soup_list[0]).group(1)\n",
    "    count_baths = re.search(\"<strong>(.+?)</strong>\", raw_bed_soup_list[1]).group(1)\n",
    "    sq_ft = re.search(\"<strong>(.+?)</strong>\", raw_bed_soup_list[2]).group(1)\n",
    "    days_on_zillow = re.search(\"<strong>(.+?)\", raw_bed_soup_list[3]).group(1)\n",
    "    count_views = re.search(\"<strong>(.+?)</strong>\", raw_bed_soup_list[5]).group(1)\n",
    "    count_saves = re.search(\"<strong>(.+?)</strong>\", raw_bed_soup_list[6]).group(1)\n",
    "\n",
    "    # Done\n",
    "    address = str(raw_address_soup)\n",
    "    address_1 = re.search(\"kHeRng(.+?)<!--\", address).group(1)[2:]\n",
    "    address_2 = re.search(\"<!-- -->(.+?)</h1>\", address).group(1)[9:]\n",
    "    address_full = address_1 + ' ' + address_2\n",
    "\n",
    "    # Aggregate into list\n",
    "    aggregate_list = [address_full, price, count_beds, count_baths, sq_ft, days_on_zillow,\n",
    "                      count_views, count_saves]\n",
    "    \n",
    "    return aggregate_list\n",
    "\n",
    "\n",
    "\n",
    "print(scrape_homedetails(strip_list_to_url(find_all_keyword_units())))"
   ]
  },
  {
   "cell_type": "code",
   "execution_count": 315,
   "metadata": {},
   "outputs": [
    {
     "name": "stdout",
     "output_type": "stream",
     "text": [
      "['https://www.zillow.com/homedetails/2717-Hiking-Trl-Raleigh-NC-27615/6495378_zpid/', 'tabindex=-1><div', 'https://www.zillow.com/homedetails/4601-Landover-Woods-Ln-Raleigh-NC-27616/65333576_zpid/', 'tabindex=-1><div', 'https://www.zillow.com/homedetails/4209-Willow-Lake-Rd-Raleigh-NC-27616/6547491_zpid/', 'tabindex=-1><div', 'https://www.zillow.com/homedetails/5901-Canewood-Pl-Raleigh-NC-27612/6530227_zpid/', 'tabindex=-1><div', 'https://www.zillow.com/homedetails/12600-Old-Creedmoor-Rd-Raleigh-NC-27613/6466276_zpid/', 'tabindex=-1><div', 'https://www.zillow.com/homedetails/1625-Heron-Pond-St-W-LOT-128-Raleigh-NC-27604/2060659337_zpid/', 'tabindex=-1><div', 'https://www.zillow.com/homedetails/3445-Honey-Ivy-Ln-W-LOT-146-Raleigh-NC-27604/2060658366_zpid/', 'tabindex=-1><div', 'https://www.zillow.com/homedetails/3429-Honey-Ivy-Ln-W-LOT-142-Raleigh-NC-27604/2060658499_zpid/', 'tabindex=-1><div', 'https://www.zillow.com/homedetails/3709-Beaver-Creek-Dr-Raleigh-NC-27604/6482798_zpid/', 'tabindex=-1><div']\n"
     ]
    }
   ],
   "source": [
    "# I'd expect ~40 distinct urls\n",
    "def get_all_branch_urls():\n",
    "\n",
    "    url_list = []\n",
    "\n",
    "    for i in find_all_keyword_units():\n",
    "        url_list.append(strip_list_to_url(i))\n",
    "    \n",
    "    print(url_list)\n",
    "\n",
    "get_all_branch_urls()"
   ]
  },
  {
   "cell_type": "code",
   "execution_count": 301,
   "metadata": {},
   "outputs": [
    {
     "name": "stdout",
     "output_type": "stream",
     "text": [
      "18\n"
     ]
    }
   ],
   "source": [
    "print(len(find_all_keyword_units()))"
   ]
  },
  {
   "cell_type": "markdown",
   "metadata": {},
   "source": [
    "Unsure of use of code below this:"
   ]
  },
  {
   "cell_type": "code",
   "execution_count": 295,
   "metadata": {},
   "outputs": [
    {
     "name": "stdout",
     "output_type": "stream",
     "text": [
      "https://www.zillow.com/homedetails/2717-Hiking-Trl-Raleigh-NC-27615/6495378_zpid/\n"
     ]
    }
   ],
   "source": [
    "test_output_str = str(test_output)\n",
    "href_url = test_output_str.split(' ')[5]\n",
    "href_url_strip = href_url.replace(\"href=\",\"\")\n",
    "href_url_strip = href_url_strip.replace('\"','')\n",
    "print(href_url_strip)"
   ]
  },
  {
   "cell_type": "code",
   "execution_count": 296,
   "metadata": {},
   "outputs": [
    {
     "name": "stdout",
     "output_type": "stream",
     "text": [
      "[<a class=\"StyledPropertyCardDataArea-c11n-8-73-8__sc-yipmu-0 lhIXlm property-card-link\" data-test=\"property-card-link\" href=\"https://www.zillow.com/homedetails/2717-Hiking-Trl-Raleigh-NC-27615/6495378_zpid/\" tabindex=\"0\"><address data-test=\"property-card-addr\">2717 Hiking Trl, Raleigh, NC 27615</address></a>, <a aria-hidden=\"false\" class=\"property-card-link\" data-test=\"property-card-link\" href=\"https://www.zillow.com/homedetails/2717-Hiking-Trl-Raleigh-NC-27615/6495378_zpid/\" tabindex=\"-1\"><div class=\"StyledPropertyCardPhoto-c11n-8-73-8__sc-ormo34-0 ijneAT srp__sc-1u5uvur-0 bofBEz\"><img alt=\"2717 Hiking Trl, Raleigh, NC 27615\" aria-hidden=\"false\" class=\"Image-c11n-8-73-8__sc-1rtmhsc-0 emzIcX\" src=\"https://photos.zillowstatic.com/fp/3bd6c470e9e6e455b912bd06857da17e-p_e.jpg\"/></div></a>, <a class=\"StyledPropertyCardDataArea-c11n-8-73-8__sc-yipmu-0 lhIXlm property-card-link\" data-test=\"property-card-link\" href=\"https://www.zillow.com/homedetails/4601-Landover-Woods-Ln-Raleigh-NC-27616/65333576_zpid/\" tabindex=\"0\"><address data-test=\"property-card-addr\">4601 Landover Woods Ln, Raleigh, NC 27616</address></a>, <a aria-hidden=\"false\" class=\"property-card-link\" data-test=\"property-card-link\" href=\"https://www.zillow.com/homedetails/4601-Landover-Woods-Ln-Raleigh-NC-27616/65333576_zpid/\" tabindex=\"-1\"><div class=\"StyledPropertyCardPhoto-c11n-8-73-8__sc-ormo34-0 ijneAT srp__sc-1u5uvur-0 bofBEz\"><img alt=\"4601 Landover Woods Ln, Raleigh, NC 27616\" aria-hidden=\"false\" class=\"Image-c11n-8-73-8__sc-1rtmhsc-0 emzIcX\" src=\"https://photos.zillowstatic.com/fp/bc99ff508c3c89fe436da09bb27eca30-p_e.jpg\"/></div></a>, <a class=\"StyledPropertyCardDataArea-c11n-8-73-8__sc-yipmu-0 lhIXlm property-card-link\" data-test=\"property-card-link\" href=\"https://www.zillow.com/homedetails/4209-Willow-Lake-Rd-Raleigh-NC-27616/6547491_zpid/\" tabindex=\"0\"><address data-test=\"property-card-addr\">4209 Willow Lake Rd, Raleigh, NC 27616</address></a>, <a aria-hidden=\"false\" class=\"property-card-link\" data-test=\"property-card-link\" href=\"https://www.zillow.com/homedetails/4209-Willow-Lake-Rd-Raleigh-NC-27616/6547491_zpid/\" tabindex=\"-1\"><div class=\"StyledPropertyCardPhoto-c11n-8-73-8__sc-ormo34-0 ijneAT srp__sc-1u5uvur-0 bofBEz\"><img alt=\"4209 Willow Lake Rd, Raleigh, NC 27616\" aria-hidden=\"false\" class=\"Image-c11n-8-73-8__sc-1rtmhsc-0 emzIcX\" src=\"https://photos.zillowstatic.com/fp/39adf5527352fea6f7d82f26f4adfbc2-p_e.jpg\"/></div></a>, <a class=\"StyledPropertyCardDataArea-c11n-8-73-8__sc-yipmu-0 lhIXlm property-card-link\" data-test=\"property-card-link\" href=\"https://www.zillow.com/homedetails/5901-Canewood-Pl-Raleigh-NC-27612/6530227_zpid/\" tabindex=\"0\"><address data-test=\"property-card-addr\">5901 Canewood Pl, Raleigh, NC 27612</address></a>, <a aria-hidden=\"false\" class=\"property-card-link\" data-test=\"property-card-link\" href=\"https://www.zillow.com/homedetails/5901-Canewood-Pl-Raleigh-NC-27612/6530227_zpid/\" tabindex=\"-1\"><div class=\"StyledPropertyCardPhoto-c11n-8-73-8__sc-ormo34-0 ijneAT srp__sc-1u5uvur-0 bofBEz\"><img alt=\"5901 Canewood Pl, Raleigh, NC 27612\" aria-hidden=\"false\" class=\"Image-c11n-8-73-8__sc-1rtmhsc-0 emzIcX\" src=\"https://photos.zillowstatic.com/fp/d132523e57f68cdfeaeb70f47bc1a29f-p_e.jpg\"/></div></a>, <a class=\"StyledPropertyCardDataArea-c11n-8-73-8__sc-yipmu-0 lhIXlm property-card-link\" data-test=\"property-card-link\" href=\"https://www.zillow.com/homedetails/12600-Old-Creedmoor-Rd-Raleigh-NC-27613/6466276_zpid/\" tabindex=\"0\"><address data-test=\"property-card-addr\">12600 Old Creedmoor Rd, Raleigh, NC 27613</address></a>, <a aria-hidden=\"false\" class=\"property-card-link\" data-test=\"property-card-link\" href=\"https://www.zillow.com/homedetails/12600-Old-Creedmoor-Rd-Raleigh-NC-27613/6466276_zpid/\" tabindex=\"-1\"><div class=\"StyledPropertyCardPhoto-c11n-8-73-8__sc-ormo34-0 ijneAT srp__sc-1u5uvur-0 bofBEz\"><img alt=\"12600 Old Creedmoor Rd, Raleigh, NC 27613\" aria-hidden=\"false\" class=\"Image-c11n-8-73-8__sc-1rtmhsc-0 emzIcX\" src=\"https://photos.zillowstatic.com/fp/2c84feaf78a1a88c3f9f4178af0caac4-p_e.jpg\"/></div></a>, <a class=\"StyledPropertyCardDataArea-c11n-8-73-8__sc-yipmu-0 lhIXlm property-card-link\" data-test=\"property-card-link\" href=\"https://www.zillow.com/homedetails/1625-Heron-Pond-St-W-LOT-128-Raleigh-NC-27604/2060659337_zpid/\" tabindex=\"0\"><address data-test=\"property-card-addr\">1625 Heron Pond St W LOT 128, Raleigh, NC 27604</address></a>, <a aria-hidden=\"false\" class=\"property-card-link\" data-test=\"property-card-link\" href=\"https://www.zillow.com/homedetails/1625-Heron-Pond-St-W-LOT-128-Raleigh-NC-27604/2060659337_zpid/\" tabindex=\"-1\"><div class=\"StyledPropertyCardPhoto-c11n-8-73-8__sc-ormo34-0 ijneAT srp__sc-1u5uvur-0 bofBEz\"><img alt=\"1625 Heron Pond St W LOT 128, Raleigh, NC 27604\" aria-hidden=\"false\" class=\"Image-c11n-8-73-8__sc-1rtmhsc-0 emzIcX\" src=\"https://photos.zillowstatic.com/fp/28e7849eded19ddb0f2e24521565aa00-p_e.jpg\"/></div></a>, <a class=\"StyledPropertyCardDataArea-c11n-8-73-8__sc-yipmu-0 lhIXlm property-card-link\" data-test=\"property-card-link\" href=\"https://www.zillow.com/homedetails/3445-Honey-Ivy-Ln-W-LOT-146-Raleigh-NC-27604/2060658366_zpid/\" tabindex=\"0\"><address data-test=\"property-card-addr\">3445 Honey Ivy Ln W LOT 146, Raleigh, NC 27604</address></a>, <a aria-hidden=\"false\" class=\"property-card-link\" data-test=\"property-card-link\" href=\"https://www.zillow.com/homedetails/3445-Honey-Ivy-Ln-W-LOT-146-Raleigh-NC-27604/2060658366_zpid/\" tabindex=\"-1\"><div class=\"StyledPropertyCardPhoto-c11n-8-73-8__sc-ormo34-0 ijneAT srp__sc-1u5uvur-0 bofBEz\"><img alt=\"3445 Honey Ivy Ln W LOT 146, Raleigh, NC 27604\" aria-hidden=\"false\" class=\"Image-c11n-8-73-8__sc-1rtmhsc-0 emzIcX\" src=\"https://photos.zillowstatic.com/fp/d22a2435371e8331ca935735c376ff51-p_e.jpg\"/></div></a>, <a class=\"StyledPropertyCardDataArea-c11n-8-73-8__sc-yipmu-0 lhIXlm property-card-link\" data-test=\"property-card-link\" href=\"https://www.zillow.com/homedetails/3429-Honey-Ivy-Ln-W-LOT-142-Raleigh-NC-27604/2060658499_zpid/\" tabindex=\"0\"><address data-test=\"property-card-addr\">3429 Honey Ivy Ln W LOT 142, Raleigh, NC 27604</address></a>, <a aria-hidden=\"false\" class=\"property-card-link\" data-test=\"property-card-link\" href=\"https://www.zillow.com/homedetails/3429-Honey-Ivy-Ln-W-LOT-142-Raleigh-NC-27604/2060658499_zpid/\" tabindex=\"-1\"><div class=\"StyledPropertyCardPhoto-c11n-8-73-8__sc-ormo34-0 ijneAT srp__sc-1u5uvur-0 bofBEz\"><img alt=\"3429 Honey Ivy Ln W LOT 142, Raleigh, NC 27604\" aria-hidden=\"false\" class=\"Image-c11n-8-73-8__sc-1rtmhsc-0 emzIcX\" src=\"https://photos.zillowstatic.com/fp/6503c7002e1558f475c4d67278383420-p_e.jpg\"/></div></a>, <a class=\"StyledPropertyCardDataArea-c11n-8-73-8__sc-yipmu-0 lhIXlm property-card-link\" data-test=\"property-card-link\" href=\"https://www.zillow.com/homedetails/3709-Beaver-Creek-Dr-Raleigh-NC-27604/6482798_zpid/\" tabindex=\"0\"><address data-test=\"property-card-addr\">3709 Beaver Creek Dr, Raleigh, NC 27604</address></a>, <a aria-hidden=\"false\" class=\"property-card-link\" data-test=\"property-card-link\" href=\"https://www.zillow.com/homedetails/3709-Beaver-Creek-Dr-Raleigh-NC-27604/6482798_zpid/\" tabindex=\"-1\"><div class=\"StyledPropertyCardPhoto-c11n-8-73-8__sc-ormo34-0 ijneAT srp__sc-1u5uvur-0 bofBEz\"><img alt=\"3709 Beaver Creek Dr, Raleigh, NC 27604\" aria-hidden=\"false\" class=\"Image-c11n-8-73-8__sc-1rtmhsc-0 emzIcX\" src=\"https://photos.zillowstatic.com/fp/a90228d449e5318d5d50b85d10d16bec-p_e.jpg\"/></div></a>]\n"
     ]
    }
   ],
   "source": [
    "# Simply testing function, can remove\n",
    "test_output = find_all_keyword_units(keyword = \"homedetails\")\n",
    "print(test_output)"
   ]
  },
  {
   "cell_type": "markdown",
   "metadata": {},
   "source": [
    "For pagination \n",
    "\n",
    "only difference is 2_p for page 2 3_p for page 3\n",
    "\n",
    "https://www.zillow.com/raleigh-nc/luxury-homes/?searchQueryState=%7B%22usersSearchTerm%22%3A%22Raleigh%2C%20NC%22%2C%22mapBounds%22%3A%7B%22west%22%3A-78.92658305517578%2C%22east%22%3A-78.32439494482422%2C%22south%22%3A35.45233694912461%2C%22north%22%3A36.119629123743984%7D%2C%22regionSelection%22%3A%5B%7B%22regionId%22%3A54047%2C%22regionType%22%3A6%7D%5D%2C%22isMapVisible%22%3Atrue%2C%22filterState%22%3A%7B%22sort%22%3A%7B%22value%22%3A%22priced%22%7D%2C%22ah%22%3A%7B%22value%22%3Atrue%7D%7D%2C%22isListVisible%22%3Atrue%2C%22mapZoom%22%3A11%7D\n",
    "\n",
    "https://www.zillow.com/raleigh-nc/luxury-homes/2_p/?searchQueryState=%7B%22usersSearchTerm%22%3A%22Raleigh%2C%20NC%22%2C%22mapBounds%22%3A%7B%22west%22%3A-78.92658305517578%2C%22east%22%3A-78.32439494482422%2C%22south%22%3A35.45233694912461%2C%22north%22%3A36.119629123743984%7D%2C%22regionSelection%22%3A%5B%7B%22regionId%22%3A54047%2C%22regionType%22%3A6%7D%5D%2C%22isMapVisible%22%3Atrue%2C%22filterState%22%3A%7B%22sort%22%3A%7B%22value%22%3A%22priced%22%7D%2C%22ah%22%3A%7B%22value%22%3Atrue%7D%7D%2C%22isListVisible%22%3Atrue%2C%22mapZoom%22%3A11%2C%22pagination%22%3A%7B%22currentPage%22%3A2%7D%7D\n",
    "\n",
    "https://www.zillow.com/raleigh-nc/luxury-homes/3_p/?searchQueryState=%7B%22usersSearchTerm%22%3A%22Raleigh%2C%20NC%22%2C%22mapBounds%22%3A%7B%22west%22%3A-78.92658305517578%2C%22east%22%3A-78.32439494482422%2C%22south%22%3A35.45233694912461%2C%22north%22%3A36.119629123743984%7D%2C%22regionSelection%22%3A%5B%7B%22regionId%22%3A54047%2C%22regionType%22%3A6%7D%5D%2C%22isMapVisible%22%3Atrue%2C%22filterState%22%3A%7B%22sort%22%3A%7B%22value%22%3A%22priced%22%7D%2C%22ah%22%3A%7B%22value%22%3Atrue%7D%7D%2C%22isListVisible%22%3Atrue%2C%22mapZoom%22%3A11%2C%22pagination%22%3A%7B%22currentPage%22%3A3%7D%7D"
   ]
  },
  {
   "cell_type": "code",
   "execution_count": 297,
   "metadata": {},
   "outputs": [
    {
     "data": {
      "text/plain": [
       "'\\n# https://blog.devgenius.io/scraping-zillow-with-python-and-beautifulsoup-bbc7e581c218\\n\\n#create the first two dataframes\\ndf = pd.DataFrame()\\ndf1 = pd.DataFrame()\\n#all for loops are pulling the specified variable using beautiful soup and inserting into said variable\\nfor i in soup:\\n    address = soup.find_all (class_= \\'list-card-addr\\')\\n    price = list(soup.find_all (class_=\\'list-card-price\\'))\\n    beds = list(soup.find_all(\"ul\", class_=\"list-card-details\"))\\n    details = soup.find_all (\\'div\\', {\\'class\\': \\'list-card-details\\'})\\n    home_type = soup.find_all (\\'div\\', {\\'class\\': \\'list-card-footer\\'})\\n    last_updated = soup.find_all (\\'div\\', {\\'class\\': \\'list-card-top\\'})\\n    brokerage = list(soup.find_all(class_= \\'list-card-brokerage list-card-img-overlay\\',text=True))\\n    link = soup.find_all (class_= \\'list-card-link\\')\\n    \\n    #create dataframe columns out of variables\\n    df[\\'prices\\'] = price\\n    df[\\'address\\'] = address\\n    df[\\'beds\\'] = beds\\n\\n#create empty url list\\nurls = []\\n\\n#loop through url, pull the href and strip out the address tag\\nfor link in soup.find_all(\"article\"):\\n    href = link.find(\\'a\\',class_=\"list-card-link\")\\n    addresses = href.find(\\'address\\')\\n    addresses.extract()\\n    urls.append(href)\\n\\n#import urls into a links column\\ndf[\\'links\\'] = urls\\ndf[\\'links\\'] = df[\\'links\\'].astype(\\'str\\')\\n\\n#remove html tags\\ndf[\\'links\\'] = df[\\'links\\'].replace(\\'<a class=\"list-card-link\" href=\"\\', \\' \\', regex=True)\\ndf[\\'links\\'] = df[\\'links\\'].replace(\\'\" tabindex=\"0\"></a>\\', \\' \\', regex=True)\\n'"
      ]
     },
     "execution_count": 297,
     "metadata": {},
     "output_type": "execute_result"
    }
   ],
   "source": [
    "# pretty sure I don't need this...\n",
    "\"\"\"\n",
    "# https://blog.devgenius.io/scraping-zillow-with-python-and-beautifulsoup-bbc7e581c218\n",
    "\n",
    "#create the first two dataframes\n",
    "df = pd.DataFrame()\n",
    "df1 = pd.DataFrame()\n",
    "#all for loops are pulling the specified variable using beautiful soup and inserting into said variable\n",
    "for i in soup:\n",
    "    address = soup.find_all (class_= 'list-card-addr')\n",
    "    price = list(soup.find_all (class_='list-card-price'))\n",
    "    beds = list(soup.find_all(\"ul\", class_=\"list-card-details\"))\n",
    "    details = soup.find_all ('div', {'class': 'list-card-details'})\n",
    "    home_type = soup.find_all ('div', {'class': 'list-card-footer'})\n",
    "    last_updated = soup.find_all ('div', {'class': 'list-card-top'})\n",
    "    brokerage = list(soup.find_all(class_= 'list-card-brokerage list-card-img-overlay',text=True))\n",
    "    link = soup.find_all (class_= 'list-card-link')\n",
    "    \n",
    "    #create dataframe columns out of variables\n",
    "    df['prices'] = price\n",
    "    df['address'] = address\n",
    "    df['beds'] = beds\n",
    "\n",
    "#create empty url list\n",
    "urls = []\n",
    "\n",
    "#loop through url, pull the href and strip out the address tag\n",
    "for link in soup.find_all(\"article\"):\n",
    "    href = link.find('a',class_=\"list-card-link\")\n",
    "    addresses = href.find('address')\n",
    "    addresses.extract()\n",
    "    urls.append(href)\n",
    "\n",
    "#import urls into a links column\n",
    "df['links'] = urls\n",
    "df['links'] = df['links'].astype('str')\n",
    "\n",
    "#remove html tags\n",
    "df['links'] = df['links'].replace('<a class=\"list-card-link\" href=\"', ' ', regex=True)\n",
    "df['links'] = df['links'].replace('\" tabindex=\"0\"></a>', ' ', regex=True)\n",
    "\"\"\""
   ]
  },
  {
   "cell_type": "code",
   "execution_count": 298,
   "metadata": {},
   "outputs": [
    {
     "name": "stdout",
     "output_type": "stream",
     "text": [
      "2717 Hiking Trl,\n",
      "Raleigh, NC 27615\n",
      "[<span class=\"Text-c11n-8-73-0__sc-aiai24-0 dpf__sc-1me8eh6-0 kGdfMs fzJCbY\" data-testid=\"price\"><span>$352,000</span></span>]\n",
      "$352,000\n",
      "beds 3\n",
      "baths 3\n",
      "sq_ft 1,566\n",
      "days_on_zillow 8\n",
      "count_views 3,931\n",
      "count_saves 229\n",
      "[<span class=\"Text-c11n-8-73-0__sc-aiai24-0 dpf__sc-1me8eh6-0 kGdfMs fzJCbY\" data-testid=\"price\"><span>$352,000</span></span>]\n",
      "[<strong>3</strong>, <strong>3</strong>, <strong>1,566</strong>, <strong>8 days</strong>, <strong>3,940</strong>, <strong>229</strong>, <strong>WED</strong>, <strong>THU</strong>, <strong>FRI</strong>, <strong>SAT</strong>]\n",
      "<h1 class=\"Text-c11n-8-73-0__sc-aiai24-0 kHeRng\">5904 Endsley Ct,<!-- --> <!-- -->Raleigh, NC 27610</h1>\n"
     ]
    }
   ],
   "source": [
    "# Appendix:\n",
    "\n",
    "# Done - address\n",
    "address = str(raw_address_soup)\n",
    "address_1 = re.search(\"kHeRng(.+?)<!--\", address).group(1)[2:]\n",
    "address_2 = re.search(\"<!-- -->(.+?)</h1>\", address).group(1)[9:]\n",
    "\n",
    "\n",
    "print(address_1)\n",
    "print(address_2)\n",
    "\n",
    "# Price\n",
    "raw_price_soup = str(branch_soup.find_all(\"span\", class_ = \"Text-c11n-8-73-0__sc-aiai24-0 dpf__sc-1me8eh6-0 kGdfMs fzJCbY\"))\n",
    "price_match_object = re.search(\"<span>(.+?)</span>\", raw_price_soup)\n",
    "price = price_match_object.group(1)\n",
    "\n",
    "print(raw_price_soup)\n",
    "print(price)\n",
    "\n",
    "# Done\n",
    "# Get all attributes besides price and address\n",
    "# Turn this into a function bb\n",
    "\n",
    "# 0 Bed, 1 bath,  2 sqft, 3 days on zillow, 5 views, 6 saves\n",
    "raw_bed_soup = str(branch_soup.find_all(\"strong\"))\n",
    "raw_bed_soup_list = raw_bed_soup.split(' ')\n",
    "count_beds = re.search(\"<strong>(.+?)</strong>\", raw_bed_soup_list[0]).group(1)\n",
    "count_baths = re.search(\"<strong>(.+?)</strong>\", raw_bed_soup_list[1]).group(1)\n",
    "sq_ft = re.search(\"<strong>(.+?)</strong>\", raw_bed_soup_list[2]).group(1)\n",
    "days_on_zillow = re.search(\"<strong>(.+?)\", raw_bed_soup_list[3]).group(1)\n",
    "count_views = re.search(\"<strong>(.+?)</strong>\", raw_bed_soup_list[5]).group(1)\n",
    "count_saves = re.search(\"<strong>(.+?)</strong>\", raw_bed_soup_list[6]).group(1)\n",
    "\n",
    "\n",
    "print(\"beds\",count_beds)\n",
    "print(\"baths\", count_baths)\n",
    "print(\"sq_ft\", sq_ft)\n",
    "print(\"days_on_zillow\", days_on_zillow)\n",
    "print(\"count_views\", count_views)\n",
    "print(\"count_saves\", count_saves)\n",
    "\n",
    "#raw soups\n",
    "raw_price_soup = branch_response_soup.find_all(\"span\", class_ = \"Text-c11n-8-73-0__sc-aiai24-0 dpf__sc-1me8eh6-0 kGdfMs fzJCbY\")\n",
    "raw_bed_soup = branch_response_soup.find_all(\"strong\")\n",
    "raw_address_soup = branch_response_soup.find(\"h1\")\n",
    "\n",
    "print(raw_price_soup) # done\n",
    "print(raw_bed_soup) # done\n",
    "print(raw_address_soup) # done\n"
   ]
  }
 ],
 "metadata": {
  "kernelspec": {
   "display_name": "Python 3.10.6 ('really-estate-mG1FNr6d-py3.10')",
   "language": "python",
   "name": "python3"
  },
  "language_info": {
   "codemirror_mode": {
    "name": "ipython",
    "version": 3
   },
   "file_extension": ".py",
   "mimetype": "text/x-python",
   "name": "python",
   "nbconvert_exporter": "python",
   "pygments_lexer": "ipython3",
   "version": "3.10.6"
  },
  "orig_nbformat": 4,
  "vscode": {
   "interpreter": {
    "hash": "3d0eff05228884e12a81e7c0d2b79ca80cfc67c833393b3fe7ac3844788baf07"
   }
  }
 },
 "nbformat": 4,
 "nbformat_minor": 2
}
